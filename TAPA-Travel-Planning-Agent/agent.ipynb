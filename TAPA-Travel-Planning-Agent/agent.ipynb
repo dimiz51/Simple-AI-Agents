{
 "cells": [
  {
   "cell_type": "markdown",
   "metadata": {},
   "source": [
    "# Building a vacation planning assistance agent with smolagents"
   ]
  },
  {
   "cell_type": "markdown",
   "metadata": {},
   "source": [
    "## Load a model from HuggingFace"
   ]
  },
  {
   "cell_type": "code",
   "execution_count": null,
   "metadata": {},
   "outputs": [],
   "source": [
    "from smolagents import CodeAgent, HfApiModel\n",
    "from tools.search_flight_tool import AmadeusFlightSearchTool\n",
    "from tools.search_hotel_tool import AmadeusHotelFinderTool\n",
    "from smolagents import FinalAnswerTool\n",
    "import os\n",
    "import dotenv\n",
    "import yaml\n",
    "\n",
    "# Should include your:\n",
    "# - HF_API_KEY\n",
    "# - AMADEUS_API_KEY\n",
    "# - AMADEUS_API_SECRET\n",
    "\n",
    "dotenv.load_dotenv()\n",
    "\n",
    "HF_TOKEN = os.getenv(\"HF_API_KEY\")\n",
    "\n",
    "llm_model = HfApiModel(token=HF_TOKEN, model_id =\"https://pflgm2locj2t89co.us-east-1.aws.endpoints.huggingface.cloud\")"
   ]
  },
  {
   "cell_type": "markdown",
   "metadata": {},
   "source": [
    "## Build the travel agent with smolagents"
   ]
  },
  {
   "cell_type": "code",
   "execution_count": null,
   "metadata": {},
   "outputs": [],
   "source": [
    "prompt_templates = yaml.safe_load(open(\"prompts.yaml\", \"r\"))\n",
    "\n",
    "agent = CodeAgent(\n",
    "    model=llm_model,\n",
    "    tools=[AmadeusFlightSearchTool(), AmadeusHotelFinderTool(), FinalAnswerTool()],\n",
    "    planning_interval=3,\n",
    "    max_steps = 5,\n",
    "    additional_authorized_imports=[\"pandas\", \"requests\", \"dotenv\", \"re\"],\n",
    "    add_base_tools=False,\n",
    "    prompt_templates=prompt_templates\n",
    ")"
   ]
  },
  {
   "cell_type": "markdown",
   "metadata": {},
   "source": [
    "## Adjust the system prompt"
   ]
  },
  {
   "cell_type": "code",
   "execution_count": null,
   "metadata": {},
   "outputs": [],
   "source": [
    "system_instructions = \"\"\"\\n You're also an expert travel planning assistant! You can help users find flights between two destination cities, look for hotel offers in\n",
    "the destination city and estimate costs to find the best possible option for the user. \n",
    "\n",
    "ALWAYS REMEMBER: \n",
    "\n",
    "- If there are no flights between the two cities, notify the user as final answer and ask for new instructions!\n",
    "- If you do not have the necessary inputs based on user prompt to use a tool ALWAYS ask the user for the minimum input parameters that are needed and\n",
    "  alert them for the existing options. Make sure you double check variables that have same names between subsequent tool calls to match what the user needs.\n",
    "- ALWAYS LOOK FOR A RETURN FLIGHT UNLESS TOLD OTHERWISE BY THE USER!\n",
    "- NEVER DO THINGS YOU ARE NOT ASKED TO DO! NEVER ADD unrealted costs derived BY ASSUMPTIONS unrelated to the user's request!\n",
    "- If the user does not specify where they want to stay assume the city center(10 km radius) of the destination city.\n",
    "- If a budget is specified it should be used for both the flight and the hotel.\n",
    "- If some part of the trip is not covered, RETURN the part of the trip that is covered and alert the user in the final answer.\n",
    "\n",
    "Don't hesitate to ask the user for confirmation of input information if something is not clear or missing.\n",
    "Essential information the user SHOULD ALWAYS provided are, but not limited to:\n",
    "\n",
    "- Departure city (City like \"New York\", never an airport name)\n",
    "- Destination city (City like \"London\", never an airport name)\n",
    "- Number of days to stay\n",
    "- Travel date\n",
    "\n",
    "If something of the above is not passed ask it as input.\n",
    "If a suitable offer is found, provide it to the user DO NOT exhaustively look for better options as it will\n",
    "overflow the API with requests.\n",
    "\n",
    "Some examples on how to use the tools:\n",
    "\n",
    "# flight_tool = AmadeusFlightSearchTool()\n",
    "# flights = flight_tool.forward(\n",
    "#     \"London\", \"Great Britain\", \"New York\", \"United States of America\", \"2025-03-05\"\n",
    "# )\n",
    "# print(flights)\n",
    "\n",
    "# hotel_tool = AmadeusHotelFinderTool()\n",
    "# hotels = hotel_tool.forward(\"London\", 20, \"Great Britain\", 1, \"2025-03-15\", 1)\n",
    "# print(hotels)\n",
    "\n",
    "The final response tool should ALWAYS consist ONLY the following:\n",
    "\n",
    "- The total cost of the trip (rounded to int)\n",
    "- Flight details: All the best flight details for all outbound and optionally return flights (duration and departure time SHOUDL ALWAYS BE STATED for all flights!)\n",
    "  Pick only one option as the best option for either flight or return flight!\n",
    "- Accomodation details: The best hotel details (Pick only one option as the best option)\n",
    "\n",
    "REMEMBER TO NEVER SIMULATE results or respond with fake data.You can ask the user to suggest alternative dates or respond with a message \n",
    "that the trip is not possible on those specific dates in case nothing fits the requested budget if one is provided or nothing was found in \n",
    "the search.\n",
    "\"\"\"\n",
    "\n",
    "# Update the system prompt\n",
    "agent.system_prompt = agent.system_prompt + system_instructions"
   ]
  },
  {
   "cell_type": "markdown",
   "metadata": {},
   "source": [
    "## Test the agent"
   ]
  },
  {
   "cell_type": "code",
   "execution_count": null,
   "metadata": {},
   "outputs": [],
   "source": [
    "travel_planning_task = \"\"\"I want to plan a trip to London from New York in the United States. I want to flight on the 23rd of March 2025. I want to stay for 3 days in London. Help me find the best option in terms of accomodation and flights.\"\"\"\n",
    "\n",
    "# Use the agent\n",
    "response = agent.run(travel_planning_task)"
   ]
  }
 ],
 "metadata": {
  "kernelspec": {
   "display_name": "agents-course",
   "language": "python",
   "name": "python3"
  },
  "language_info": {
   "codemirror_mode": {
    "name": "ipython",
    "version": 3
   },
   "file_extension": ".py",
   "mimetype": "text/x-python",
   "name": "python",
   "nbconvert_exporter": "python",
   "pygments_lexer": "ipython3",
   "version": "3.10.13"
  }
 },
 "nbformat": 4,
 "nbformat_minor": 2
}

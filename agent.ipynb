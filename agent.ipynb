{
 "cells": [
  {
   "cell_type": "markdown",
   "metadata": {},
   "source": [
    "# Building a vacation planning assistance agent with smolagents"
   ]
  },
  {
   "cell_type": "markdown",
   "metadata": {},
   "source": [
    "## Load a model from HuggingFace"
   ]
  },
  {
   "cell_type": "code",
   "execution_count": 1,
   "metadata": {},
   "outputs": [
    {
     "name": "stderr",
     "output_type": "stream",
     "text": [
      "/home/dimitris/.pyenv/versions/3.10.13/envs/agents-course/lib/python3.10/site-packages/tqdm/auto.py:21: TqdmWarning: IProgress not found. Please update jupyter and ipywidgets. See https://ipywidgets.readthedocs.io/en/stable/user_install.html\n",
      "  from .autonotebook import tqdm as notebook_tqdm\n"
     ]
    }
   ],
   "source": [
    "from smolagents import CodeAgent, HfApiModel\n",
    "from tools.search_flight_tool import AmadeusFlightSearchTool\n",
    "from tools.search_hotel_tool import AmadeusHotelFinderTool\n",
    "from smolagents import FinalAnswerTool\n",
    "import os\n",
    "import dotenv\n",
    "\n",
    "# Should include your:\n",
    "# - HF_API_KEY\n",
    "# - AMADEUS_API_KEY\n",
    "# - AMADEUS_API_SECRET\n",
    "\n",
    "dotenv.load_dotenv()\n",
    "\n",
    "HF_TOKEN = os.getenv(\"HF_API_KEY\")\n",
    "\n",
    "llm_model = HfApiModel(token=HF_TOKEN, model_id =\"https://pflgm2locj2t89co.us-east-1.aws.endpoints.huggingface.cloud\")"
   ]
  },
  {
   "cell_type": "markdown",
   "metadata": {},
   "source": [
    "## Build the travel agent with smolagents"
   ]
  },
  {
   "cell_type": "code",
   "execution_count": null,
   "metadata": {},
   "outputs": [],
   "source": [
    "agent = CodeAgent(\n",
    "    model=llm_model,\n",
    "    tools=[AmadeusFlightSearchTool(), AmadeusHotelFinderTool(), FinalAnswerTool()],\n",
    "    planning_interval=3,\n",
    "    max_steps = 5,\n",
    "    additional_authorized_imports=[\"pandas\", \"requests\", \"dotenv\", \"re\"],\n",
    "    add_base_tools=False\n",
    ")"
   ]
  },
  {
   "cell_type": "markdown",
   "metadata": {},
   "source": [
    "## Adjust the system prompt"
   ]
  },
  {
   "cell_type": "code",
   "execution_count": null,
   "metadata": {},
   "outputs": [],
   "source": [
    "system_instructions = \"\"\"\\nYou're an expert travel planning assistant. You can help users find flights between two destination cities, look for hotel offers in\n",
    "the destination city and estimate costs to find the best possible option for the user.\n",
    "\n",
    "To solve the task, you must plan forward to proceed in a series of steps, in a cycle of 'Thought:', 'Code:', and 'Observation:' sequences.\n",
    "At each step, in the 'Thought:' sequence, you should first explain your reasoning towards solving the task and the tools that you want to use.\n",
    "Then in the 'Code:' sequence, you should write the code in simple Python. The code sequence must end with '<end_code>' sequence.\n",
    "If you do not have the necessary inputs based on user prompt to use a tool ALWAYS ask the user for the minimum input parameters that are needed and\n",
    "alert them for the existing options. Make sure you double check variables that have same names between subsequent tool calls to match what the user needs.\n",
    "During each intermediate step, you can use 'print()' to save whatever important information you will then need.\n",
    "NEVER use simulated answers, it is OK to answer I failed to find what you were looking for with a detailed explanation on the reasons.\n",
    "These print outputs will then appear in the 'Observation:' field, which will be available as input for the next step.\n",
    "In the end you have to return a final answer using the `final_answer` tool and ask the user if it satisfies their needs.\n",
    "In the final response generated with the `final_answer` tool ALWAYS include:\n",
    "\n",
    "- The total cost of the trip (rounded to int)\n",
    "- The remaining budget (rounded to int)\n",
    "- All the best flight details (duration and departure time pick only one option as the best option)\n",
    "- The best hotel details (Pick only one option as the best option)\n",
    "\n",
    "Respond in a structured format:\n",
    "\n",
    "****Available flights****\n",
    "....\n",
    "\n",
    "****Best hotel****\n",
    "...\n",
    "****Total cost****\n",
    "\n",
    "****Remaining budget****\n",
    "....\n",
    "Does the suggested trip meet your requirements?\n",
    "\n",
    "Here is an example using notional tools:\n",
    "---\n",
    "Task: \"Generate an image of the oldest person in this document.\"\n",
    "\n",
    "Thought: I will proceed step by step and use the following tools: `document_qa` to find the oldest person in the document, then `image_generator` to generate an image according to the answer.\n",
    "Code:\n",
    "```py\n",
    "answer = document_qa(document=document, question=\"Who is the oldest person mentioned?\")\n",
    "print(answer)\n",
    "```<end_code>\n",
    "Observation: \"The oldest person in the document is John Doe, a 55 year old lumberjack living in Newfoundland.\"\n",
    "\n",
    "Thought: I will now generate an image showcasing the oldest person.\n",
    "Code:\n",
    "```py\n",
    "image = image_generator(\"A portrait of John Doe, a 55-year-old man living in Canada.\")\n",
    "final_answer(image)\n",
    "```<end_code>\n",
    "\n",
    "---\n",
    "Task: \"What is the result of the following operation: 5 + 3 + 1294.678?\"\n",
    "\n",
    "Thought: I will use python code to compute the result of the operation and then return the final answer using the `final_answer` tool\n",
    "Code:\n",
    "```py\n",
    "result = 5 + 3 + 1294.678\n",
    "final_answer(result)\n",
    "```<end_code>\n",
    "\n",
    "\n",
    "Don't hesitate to ask the user for confirmation of input information if something is not clear or missing.\n",
    "Essential information the user SHOULD ALWAYS provided are, but not limited to:\n",
    "\n",
    "- Departure city (City like \"New York\", never an airport name)\n",
    "- Destination city (City like \"London\", never an airport name)\n",
    "- Number of days to stay\n",
    "- Travel date\n",
    "\n",
    "If something of the above is not passed ask it and wait for a new prompt.\n",
    "If a suitable offer is found, provide it to the user do not exhaustively look for better options.\n",
    "\n",
    "Some examples on how to use the tools:\n",
    "\n",
    "# flight_tool = AmadeusFlightSearchTool()\n",
    "# flights = flight_tool.forward(\n",
    "#     \"London\", \"Great Britain\", \"New York\", \"United States of America\", \"2025-03-05\"\n",
    "# )\n",
    "# print(flights)\n",
    "\n",
    "# hotel_tool = AmadeusHotelFinderTool()\n",
    "# hotels = hotel_tool.forward(\"London\", 20, \"Great Britain\", 1, \"2025-03-15\", 1)\n",
    "# print(hotels)\n",
    "\n",
    "REMEMBER TO NEVER SIMULATE results or respond with fake data.You can ask the user to suggest alternative dates or respond with a message \n",
    "that the trip is not possible on those specific dates in case nothing fits the requested budget if one is provided or nothing was found in \n",
    "the search.\n",
    "\"\"\"\n",
    "\n",
    "# Update the system prompt\n",
    "agent.system_prompt = agent.system_prompt + system_instructions"
   ]
  },
  {
   "cell_type": "markdown",
   "metadata": {},
   "source": [
    "## Test the agent"
   ]
  },
  {
   "cell_type": "code",
   "execution_count": null,
   "metadata": {},
   "outputs": [],
   "source": [
    "travel_planning_task = \"\"\"I want to plan a trip to London from New York in the United States. I want to flight on the 23rd of March 2025. I want to stay for 3 days in London. Help me find the best option in terms of accomodation and flights with a budget\n",
    "of at maximum 1700 euros.\"\"\"\n",
    "\n",
    "# Use the agent\n",
    "response = agent.run(travel_planning_task)"
   ]
  }
 ],
 "metadata": {
  "kernelspec": {
   "display_name": "agents-course",
   "language": "python",
   "name": "python3"
  },
  "language_info": {
   "codemirror_mode": {
    "name": "ipython",
    "version": 3
   },
   "file_extension": ".py",
   "mimetype": "text/x-python",
   "name": "python",
   "nbconvert_exporter": "python",
   "pygments_lexer": "ipython3",
   "version": "3.10.13"
  }
 },
 "nbformat": 4,
 "nbformat_minor": 2
}
